{
 "cells": [
  {
   "cell_type": "code",
   "execution_count": 1,
   "id": "30360b69",
   "metadata": {},
   "outputs": [
    {
     "data": {
      "text/html": [
       "<p>To authorize access needed by Earth Engine, open the following\n",
       "        URL in a web browser and follow the instructions:</p>\n",
       "        <p><a href=https://code.earthengine.google.com/client-auth?scopes=https%3A//www.googleapis.com/auth/earthengine%20https%3A//www.googleapis.com/auth/devstorage.full_control&request_id=2vJP5k0pelNnj7v3CH9nW9c8ukPP9AhkBLfPz6yZnRE&tc=6IQhWJxxIhA9B9xmqLeRzxS7MyxK_vgYMBad2LVeh9E&cc=Xs3hpfR_MANgYyUCiLvukrgIxZzR2fH6ZIXBzVFcEpA>https://code.earthengine.google.com/client-auth?scopes=https%3A//www.googleapis.com/auth/earthengine%20https%3A//www.googleapis.com/auth/devstorage.full_control&request_id=2vJP5k0pelNnj7v3CH9nW9c8ukPP9AhkBLfPz6yZnRE&tc=6IQhWJxxIhA9B9xmqLeRzxS7MyxK_vgYMBad2LVeh9E&cc=Xs3hpfR_MANgYyUCiLvukrgIxZzR2fH6ZIXBzVFcEpA</a></p>\n",
       "        <p>The authorization workflow will generate a code, which you should paste in the box below.</p>\n",
       "        "
      ],
      "text/plain": [
       "<IPython.core.display.HTML object>"
      ]
     },
     "metadata": {},
     "output_type": "display_data"
    },
    {
     "name": "stdout",
     "output_type": "stream",
     "text": [
      "\n",
      "Successfully saved authorization token.\n"
     ]
    }
   ],
   "source": [
    "# This step is relevant for could run the project.py file\n",
    "# Importar librerias al entorno\n",
    "import ee\n",
    "\n",
    "# Iniciar Sesión en GEE (si les da un error incluso pegando el link de autenticación hay que conectar GEE con Google Cloud)\n",
    "ee.Authenticate()\n",
    "ee.Initialize()"
   ]
  }
 ],
 "metadata": {
  "kernelspec": {
   "display_name": "Python 3 (ipykernel)",
   "language": "python",
   "name": "python3"
  },
  "language_info": {
   "codemirror_mode": {
    "name": "ipython",
    "version": 3
   },
   "file_extension": ".py",
   "mimetype": "text/x-python",
   "name": "python",
   "nbconvert_exporter": "python",
   "pygments_lexer": "ipython3",
   "version": "3.12.0"
  }
 },
 "nbformat": 4,
 "nbformat_minor": 5
}
