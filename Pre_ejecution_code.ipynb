{
 "cells": [
  {
   "cell_type": "code",
   "execution_count": null,
   "id": "30360b69",
   "metadata": {},
   "outputs": [],
   "source": [
    "# This step is relevant for could run the project.py file\n",
    "# Importar librerias al entorno\n",
    "import ee\n",
    "\n",
    "# Iniciar Sesión en GEE (si les da un error incluso pegando el link de autenticación hay que conectar GEE con Google Cloud)\n",
    "ee.Authenticate()\n",
    "ee.Initialize()"
   ]
  }
 ],
 "metadata": {
  "kernelspec": {
   "display_name": "Python 3 (ipykernel)",
   "language": "python",
   "name": "python3"
  },
  "language_info": {
   "codemirror_mode": {
    "name": "ipython",
    "version": 3
   },
   "file_extension": ".py",
   "mimetype": "text/x-python",
   "name": "python",
   "nbconvert_exporter": "python",
   "pygments_lexer": "ipython3",
   "version": "3.12.0"
  }
 },
 "nbformat": 4,
 "nbformat_minor": 5
}
